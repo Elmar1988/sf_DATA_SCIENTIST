{
 "cells": [
  {
   "cell_type": "code",
   "execution_count": null,
   "metadata": {},
   "outputs": [],
   "source": []
  }
 ],
 "metadata": {
  "kernelspec": {
   "display_name": "Python 3.9.10 64-bit",
   "language": "python",
   "name": "python3"
  },
  "language_info": {
   "name": "python",
   "version": "3.9.10"
  },
  "orig_nbformat": 4,
  "vscode": {
   "interpreter": {
    "hash": "ad01d98aee3a63a3e508d805eb3d24c849dbc82673fcebec53f5ce6bcf3897d0"
   }
  }
 },
 "nbformat": 4,
 "nbformat_minor": 2
}
